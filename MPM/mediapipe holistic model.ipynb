{
 "cells": [
  {
   "cell_type": "code",
   "execution_count": 1,
   "outputs": [],
   "source": [
    "import cv2\n",
    "import mediapipe as mp\n",
    "import time\n",
    "import pandas as pd\n",
    "pd.set_option('display.max_rows', None)\n",
    "mp_drawing = mp.solutions.drawing_utils\n",
    "mp_holistic = mp.solutions.holistic"
   ],
   "metadata": {
    "collapsed": false,
    "ExecuteTime": {
     "start_time": "2023-05-24T11:07:31.418888Z",
     "end_time": "2023-05-24T11:07:38.451986Z"
    }
   }
  },
  {
   "cell_type": "code",
   "execution_count": 2,
   "outputs": [],
   "source": [
    "def get_right_hand_landmark_indexes(hand, frame):\n",
    "    index_list = ['WRIST', 'THUMB_CMC', 'THUMB_MCP', 'THUMB_IP', 'THUMB_TIP', 'INDEX_FINGER_MCP', 'INDEX_FINGER_PIP',\n",
    "                  'INDEX_FINGER_DIP', 'INDEX_FINGER_TIP', 'MIDDLE_FINGER_MCP', 'MIDDLE_FINGER_PIP', 'MIDDLE_FINGER_DIP',\n",
    "                  'MIDDLE_FINGER_TIP', 'RING_FINGER_MCP', 'RING_FINGER_PIP', 'RING_FINGER_DIP', 'RING_FINGER_TIP',\n",
    "                  'PINKY_MCP', 'PINKY_PIP', 'PINKY_DIP', 'PINKY_TIP']\n",
    "\n",
    "    right_hand_landmarks = []\n",
    "    for part in index_list:\n",
    "        if hand.right_hand_landmarks:\n",
    "            right_hand_landmarks.append([frame, f\"{frame}-right_hand-{index_list.index(part)}\", \"right_hand\", index_list.index(part), hand.right_hand_landmarks.landmark[mp_holistic.HandLandmark(index_list.index(part))].x, hand.right_hand_landmarks.landmark[mp_holistic.HandLandmark(index_list.index(part))].y, hand.right_hand_landmarks.landmark[mp_holistic.HandLandmark(index_list.index(part))].z])\n",
    "\n",
    "        else:\n",
    "            right_hand_landmarks.append([frame, f\"{frame}-right_hand-{index_list.index(part)}\", \"right_hand\",index_list.index(part),  0, 0, 0])\n",
    "\n",
    "    return right_hand_landmarks"
   ],
   "metadata": {
    "collapsed": false,
    "ExecuteTime": {
     "start_time": "2023-05-24T11:07:38.453099Z",
     "end_time": "2023-05-24T11:07:38.466393Z"
    }
   }
  },
  {
   "cell_type": "code",
   "execution_count": 3,
   "outputs": [],
   "source": [
    "def get_left_hand_landmark_indexes(hand, frame):\n",
    "    index_list = ['WRIST', 'THUMB_CMC', 'THUMB_MCP', 'THUMB_IP', 'THUMB_TIP', 'INDEX_FINGER_MCP', 'INDEX_FINGER_PIP',\n",
    "                  'INDEX_FINGER_DIP', 'INDEX_FINGER_TIP', 'MIDDLE_FINGER_MCP', 'MIDDLE_FINGER_PIP', 'MIDDLE_FINGER_DIP',\n",
    "                  'MIDDLE_FINGER_TIP', 'RING_FINGER_MCP', 'RING_FINGER_PIP', 'RING_FINGER_DIP', 'RING_FINGER_TIP',\n",
    "                  'PINKY_MCP', 'PINKY_PIP', 'PINKY_DIP', 'PINKY_TIP']\n",
    "\n",
    "    left_hand_landmarks = []\n",
    "    for part in index_list:\n",
    "        if hand.left_hand_landmarks:\n",
    "            left_hand_landmarks.append([frame, f\"{frame}-left_hand-{index_list.index(part)}\", \"left_hand\", index_list.index(part), hand.left_hand_landmarks.landmark[mp_holistic.HandLandmark(index_list.index(part))].x, hand.left_hand_landmarks.landmark[mp_holistic.HandLandmark(index_list.index(part))].y, hand.left_hand_landmarks.landmark[mp_holistic.HandLandmark(index_list.index(part))].z])\n",
    "\n",
    "        else:\n",
    "            left_hand_landmarks.append([frame, f\"{frame}-left_hand-{index_list.index(part)}\", \"left_hand\",index_list.index(part),  0, 0, 0])\n",
    "\n",
    "    return left_hand_landmarks"
   ],
   "metadata": {
    "collapsed": false,
    "ExecuteTime": {
     "start_time": "2023-05-24T11:07:38.466393Z",
     "end_time": "2023-05-24T11:07:38.487136Z"
    }
   }
  },
  {
   "cell_type": "code",
   "execution_count": 4,
   "outputs": [],
   "source": [
    "def get_post_landmark_indexes(pose, frame):\n",
    "    index_list = ['NOSE', 'LEFT_EYE_INNER', 'LEFT_EYE', 'LEFT_EYE_OUTER', 'RIGHT_EYE_INNER', 'RIGHT_EYE', 'RIGHT_EYE_OUTER', 'LEFT_EAR', 'RIGHT_EAR', 'MOUTH_LEFT', 'MOUTH_RIGHT', 'LEFT_SHOULDER', 'RIGHT_SHOULDER', 'LEFT_ELBOW', 'RIGHT_ELBOW', 'LEFT_WRIST', 'RIGHT_WRIST', 'LEFT_PINKY', 'RIGHT_PINKY', 'LEFT_INDEX', 'RIGHT_INDEX', 'LEFT_THUMB', 'RIGHT_THUMB', 'LEFT_HIP', 'RIGHT_HIP', 'LEFT_KNEE', 'RIGHT_KNEE', 'LEFT_ANKLE', 'RIGHT_ANKLE', 'LEFT_HEEL', 'RIGHT_HEEL', 'LEFT_FOOT_INDEX', 'RIGHT_FOOT_INDEX']\n",
    "\n",
    "\n",
    "    pose_landmarks = []\n",
    "    for part in index_list:\n",
    "        if pose.pose_landmarks:\n",
    "            pose_landmarks.append([frame, f\"{frame}-pose-{index_list.index(part)}\", \"pose\", index_list.index(part), pose.pose_landmarks.landmark[mp_holistic.PoseLandmark(index_list.index(part))].x, pose.pose_landmarks.landmark[mp_holistic.PoseLandmark(index_list.index(part))].y, pose.pose_landmarks.landmark[mp_holistic.PoseLandmark(index_list.index(part))].z])\n",
    "\n",
    "        else:\n",
    "            pose_landmarks.append([frame, f\"{frame}-pose-{index_list.index(part)}\", \"pose\",index_list.index(part),  0, 0, 0])\n",
    "\n",
    "    return pose_landmarks"
   ],
   "metadata": {
    "collapsed": false,
    "ExecuteTime": {
     "start_time": "2023-05-24T11:07:38.483801Z",
     "end_time": "2023-05-24T11:07:38.496306Z"
    }
   }
  },
  {
   "cell_type": "code",
   "execution_count": 5,
   "outputs": [],
   "source": [
    "def get_face_landmark_indexes(face, frame):\n",
    "    face_landmarks = []\n",
    "    if face.face_landmarks:\n",
    "        for i in range(len(face.face_landmarks.landmark)):\n",
    "            face_landmarks.append([frame, f\"{frame}-face-{i}\", \"face\", i, face.face_landmarks.landmark[i].x,\n",
    "                                   face.face_landmarks.landmark[i].y, face.face_landmarks.landmark[i].z])\n",
    "    else:\n",
    "        for i in range(0, 468):\n",
    "            face_landmarks.append([frame, f\"{frame}-face-{i}\", \"face\", i, 0, 0, 0])\n",
    "    return face_landmarks"
   ],
   "metadata": {
    "collapsed": false,
    "ExecuteTime": {
     "start_time": "2023-05-24T11:07:38.499358Z",
     "end_time": "2023-05-24T11:07:38.522087Z"
    }
   }
  },
  {
   "cell_type": "code",
   "execution_count": 6,
   "outputs": [],
   "source": [
    "def Mediapipe_holistic():\n",
    "    count = 0\n",
    "    data = []\n",
    "    #cap = cv2.VideoCapture(\"WIN_20230427_12_27_08_Pro.mp4\")\n",
    "    cap = cv2.VideoCapture(0)\n",
    "    with mp_holistic.Holistic(\n",
    "        min_detection_confidence=0.5,\n",
    "        min_tracking_confidence=0.5) as hands:\n",
    "\n",
    "        while cap.isOpened():\n",
    "\n",
    "            success, image = cap.read()\n",
    "\n",
    "            start = time.time()\n",
    "\n",
    "            if image is not None:\n",
    "                img_h, img_w, img_c = image.shape\n",
    "\n",
    "            # Convert the BGR image to RGB.\n",
    "                image = cv2.cvtColor(image, cv2.COLOR_BGR2RGB)\n",
    "\n",
    "            # To improve performance, optionally mark the image as not writeable to\n",
    "            # pass by reference.\n",
    "                image.flags.writeable = False\n",
    "\n",
    "            # Process the image and find hands\n",
    "                results = hands.process(image)\n",
    "\n",
    "                image.flags.writeable = True\n",
    "\n",
    "            # Draw the hand annotations on the image.\n",
    "                image = cv2.cvtColor(image, cv2.COLOR_RGB2BGR)\n",
    "\n",
    "\n",
    "                mp_drawing.draw_landmarks(image, results.face_landmarks, mp_holistic.FACEMESH_CONTOURS)\n",
    "                mp_drawing.draw_landmarks(image, results.left_hand_landmarks, mp_holistic.HAND_CONNECTIONS)\n",
    "                mp_drawing.draw_landmarks(image, results.right_hand_landmarks, mp_holistic.HAND_CONNECTIONS)\n",
    "                mp_drawing.draw_landmarks(image, results.pose_landmarks, mp_holistic.POSE_CONNECTIONS)\n",
    "\n",
    "                end = time.time()\n",
    "                totalTime = end - start\n",
    "\n",
    "                fps = 1 / totalTime\n",
    "                count = count + 1\n",
    "\n",
    "                data.append(get_right_hand_landmark_indexes(results, count))\n",
    "                data.append(get_left_hand_landmark_indexes(results,count))\n",
    "                data.append(get_post_landmark_indexes(results, count))\n",
    "                data.append(get_face_landmark_indexes(results, count))\n",
    "                cv2.putText(image, f'FPS: {int(fps)}', (20,70), cv2.FONT_HERSHEY_SIMPLEX, 2, (0,255,0), 2)\n",
    "\n",
    "                cv2.imshow('MediaPipe Hands', image)\n",
    "\n",
    "                if cv2.waitKey(5) & 0xFF == 27:\n",
    "                  break\n",
    "            else:\n",
    "                cap.release()\n",
    "\n",
    "            #for live video\n",
    "            # cv2.putText(image, f'FPS: {int(fps)}', (20,70), cv2.FONT_HERSHEY_SIMPLEX, 2, (0,255,0), 2)\n",
    "            #\n",
    "            # cv2.imshow('MediaPipe Hands', image)\n",
    "            #\n",
    "            # if cv2.waitKey(5) & 0xFF == 27:\n",
    "            #   break\n",
    "    return data"
   ],
   "metadata": {
    "collapsed": false,
    "ExecuteTime": {
     "start_time": "2023-05-24T11:07:38.517803Z",
     "end_time": "2023-05-24T11:07:38.528027Z"
    }
   }
  },
  {
   "cell_type": "code",
   "execution_count": 7,
   "outputs": [
    {
     "ename": "AttributeError",
     "evalue": "'NoneType' object has no attribute 'landmark'",
     "output_type": "error",
     "traceback": [
      "\u001B[1;31m---------------------------------------------------------------------------\u001B[0m",
      "\u001B[1;31mAttributeError\u001B[0m                            Traceback (most recent call last)",
      "Cell \u001B[1;32mIn[7], line 1\u001B[0m\n\u001B[1;32m----> 1\u001B[0m data \u001B[38;5;241m=\u001B[39m \u001B[43mMediapipe_holistic\u001B[49m\u001B[43m(\u001B[49m\u001B[43m)\u001B[49m\n\u001B[0;32m      2\u001B[0m flat_list \u001B[38;5;241m=\u001B[39m [item \u001B[38;5;28;01mfor\u001B[39;00m sublist \u001B[38;5;129;01min\u001B[39;00m data \u001B[38;5;28;01mfor\u001B[39;00m item \u001B[38;5;129;01min\u001B[39;00m sublist]\n\u001B[0;32m      3\u001B[0m df \u001B[38;5;241m=\u001B[39m pd\u001B[38;5;241m.\u001B[39mDataFrame(flat_list, columns\u001B[38;5;241m=\u001B[39m[\u001B[38;5;124m'\u001B[39m\u001B[38;5;124mframe\u001B[39m\u001B[38;5;124m'\u001B[39m, \u001B[38;5;124m'\u001B[39m\u001B[38;5;124mrow_id\u001B[39m\u001B[38;5;124m'\u001B[39m, \u001B[38;5;124m'\u001B[39m\u001B[38;5;124mtype\u001B[39m\u001B[38;5;124m'\u001B[39m, \u001B[38;5;124m'\u001B[39m\u001B[38;5;124mlandmark_index\u001B[39m\u001B[38;5;124m'\u001B[39m, \u001B[38;5;124m'\u001B[39m\u001B[38;5;124mx\u001B[39m\u001B[38;5;124m'\u001B[39m, \u001B[38;5;124m'\u001B[39m\u001B[38;5;124my\u001B[39m\u001B[38;5;124m'\u001B[39m, \u001B[38;5;124m'\u001B[39m\u001B[38;5;124mz\u001B[39m\u001B[38;5;124m'\u001B[39m])\n",
      "Cell \u001B[1;32mIn[6], line 49\u001B[0m, in \u001B[0;36mMediapipe_holistic\u001B[1;34m()\u001B[0m\n\u001B[0;32m     47\u001B[0m data\u001B[38;5;241m.\u001B[39mappend(get_left_hand_landmark_indexes(results,count))\n\u001B[0;32m     48\u001B[0m data\u001B[38;5;241m.\u001B[39mappend(get_post_landmark_indexes(results, count))\n\u001B[1;32m---> 49\u001B[0m data\u001B[38;5;241m.\u001B[39mappend(\u001B[43mget_face_landmark_indexes\u001B[49m\u001B[43m(\u001B[49m\u001B[43mresults\u001B[49m\u001B[43m,\u001B[49m\u001B[43m \u001B[49m\u001B[43mcount\u001B[49m\u001B[43m)\u001B[49m)\n\u001B[0;32m     50\u001B[0m cv2\u001B[38;5;241m.\u001B[39mputText(image, \u001B[38;5;124mf\u001B[39m\u001B[38;5;124m'\u001B[39m\u001B[38;5;124mFPS: \u001B[39m\u001B[38;5;132;01m{\u001B[39;00m\u001B[38;5;28mint\u001B[39m(fps)\u001B[38;5;132;01m}\u001B[39;00m\u001B[38;5;124m'\u001B[39m, (\u001B[38;5;241m20\u001B[39m,\u001B[38;5;241m70\u001B[39m), cv2\u001B[38;5;241m.\u001B[39mFONT_HERSHEY_SIMPLEX, \u001B[38;5;241m2\u001B[39m, (\u001B[38;5;241m0\u001B[39m,\u001B[38;5;241m255\u001B[39m,\u001B[38;5;241m0\u001B[39m), \u001B[38;5;241m2\u001B[39m)\n\u001B[0;32m     52\u001B[0m cv2\u001B[38;5;241m.\u001B[39mimshow(\u001B[38;5;124m'\u001B[39m\u001B[38;5;124mMediaPipe Hands\u001B[39m\u001B[38;5;124m'\u001B[39m, image)\n",
      "Cell \u001B[1;32mIn[5], line 3\u001B[0m, in \u001B[0;36mget_face_landmark_indexes\u001B[1;34m(face, frame)\u001B[0m\n\u001B[0;32m      1\u001B[0m \u001B[38;5;28;01mdef\u001B[39;00m \u001B[38;5;21mget_face_landmark_indexes\u001B[39m(face, frame):\n\u001B[0;32m      2\u001B[0m     face_landmarks \u001B[38;5;241m=\u001B[39m []\n\u001B[1;32m----> 3\u001B[0m     \u001B[38;5;28;01mfor\u001B[39;00m i \u001B[38;5;129;01min\u001B[39;00m \u001B[38;5;28mrange\u001B[39m(\u001B[38;5;28mlen\u001B[39m(\u001B[43mface\u001B[49m\u001B[38;5;241;43m.\u001B[39;49m\u001B[43mface_landmarks\u001B[49m\u001B[38;5;241;43m.\u001B[39;49m\u001B[43mlandmark\u001B[49m)):\n\u001B[0;32m      4\u001B[0m         face_landmarks\u001B[38;5;241m.\u001B[39mappend([frame, \u001B[38;5;124mf\u001B[39m\u001B[38;5;124m\"\u001B[39m\u001B[38;5;132;01m{\u001B[39;00mframe\u001B[38;5;132;01m}\u001B[39;00m\u001B[38;5;124m-face-\u001B[39m\u001B[38;5;132;01m{\u001B[39;00mi\u001B[38;5;132;01m}\u001B[39;00m\u001B[38;5;124m\"\u001B[39m, \u001B[38;5;124m\"\u001B[39m\u001B[38;5;124mface\u001B[39m\u001B[38;5;124m\"\u001B[39m, i, face\u001B[38;5;241m.\u001B[39mface_landmarks\u001B[38;5;241m.\u001B[39mlandmark[i]\u001B[38;5;241m.\u001B[39mx, face\u001B[38;5;241m.\u001B[39mface_landmarks\u001B[38;5;241m.\u001B[39mlandmark[i]\u001B[38;5;241m.\u001B[39my, face\u001B[38;5;241m.\u001B[39mface_landmarks\u001B[38;5;241m.\u001B[39mlandmark[i]\u001B[38;5;241m.\u001B[39mz])\n\u001B[0;32m      5\u001B[0m     \u001B[38;5;28;01mreturn\u001B[39;00m face_landmarks\n",
      "\u001B[1;31mAttributeError\u001B[0m: 'NoneType' object has no attribute 'landmark'"
     ]
    }
   ],
   "source": [
    "data = Mediapipe_holistic()\n",
    "flat_list = [item for sublist in data for item in sublist]\n",
    "df = pd.DataFrame(flat_list, columns=['frame', 'row_id', 'type', 'landmark_index', 'x', 'y', 'z'])"
   ],
   "metadata": {
    "collapsed": false,
    "ExecuteTime": {
     "start_time": "2023-04-28T15:32:37.192146Z",
     "end_time": "2023-04-28T15:32:37.304974Z"
    }
   }
  },
  {
   "cell_type": "code",
   "execution_count": null,
   "outputs": [],
   "source": [
    "\n"
   ],
   "metadata": {
    "collapsed": false
   }
  }
 ],
 "metadata": {
  "kernelspec": {
   "display_name": "Python 3",
   "language": "python",
   "name": "python3"
  },
  "language_info": {
   "codemirror_mode": {
    "name": "ipython",
    "version": 2
   },
   "file_extension": ".py",
   "mimetype": "text/x-python",
   "name": "python",
   "nbconvert_exporter": "python",
   "pygments_lexer": "ipython2",
   "version": "2.7.6"
  }
 },
 "nbformat": 4,
 "nbformat_minor": 0
}
