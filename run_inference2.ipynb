{
 "cells": [
  {
   "cell_type": "code",
   "execution_count": 1,
   "metadata": {
    "collapsed": true,
    "ExecuteTime": {
     "end_time": "2023-07-10T07:29:22.684212400Z",
     "start_time": "2023-07-10T07:29:21.060333300Z"
    }
   },
   "outputs": [
    {
     "name": "stderr",
     "output_type": "stream",
     "text": [
      "2023-07-10 09:29:21.368153: I tensorflow/core/platform/cpu_feature_guard.cc:182] This TensorFlow binary is optimized to use available CPU instructions in performance-critical operations.\n",
      "To enable the following instructions: AVX2 FMA, in other operations, rebuild TensorFlow with the appropriate compiler flags.\n",
      "2023-07-10 09:29:22.098474: W tensorflow/compiler/tf2tensorrt/utils/py_utils.cc:38] TF-TRT Warning: Could not find TensorRT\n"
     ]
    }
   ],
   "source": [
    "import numpy as np\n",
    "import pandas as pd\n",
    "import tensorflow as tf\n",
    "import json"
   ]
  },
  {
   "cell_type": "code",
   "execution_count": 2,
   "outputs": [],
   "source": [
    "DATA_FOLDER = \"/mnt/e/sign-lang-data-2\""
   ],
   "metadata": {
    "collapsed": false,
    "ExecuteTime": {
     "end_time": "2023-07-10T07:29:22.686263800Z",
     "start_time": "2023-07-10T07:29:22.683205400Z"
    }
   }
  },
  {
   "cell_type": "code",
   "execution_count": 3,
   "outputs": [],
   "source": [
    "# load tf lite model"
   ],
   "metadata": {
    "collapsed": false,
    "ExecuteTime": {
     "end_time": "2023-07-10T07:29:22.696301200Z",
     "start_time": "2023-07-10T07:29:22.686263800Z"
    }
   }
  },
  {
   "cell_type": "code",
   "execution_count": 4,
   "outputs": [
    {
     "name": "stderr",
     "output_type": "stream",
     "text": [
      "INFO: Created TensorFlow Lite XNNPACK delegate for CPU.\n"
     ]
    }
   ],
   "source": [
    "interpreter = tf.lite.Interpreter(model_path=\"model_save/model.tflite\")\n",
    "interpreter.allocate_tensors()\n",
    "model = interpreter.get_signature_runner()"
   ],
   "metadata": {
    "collapsed": false,
    "ExecuteTime": {
     "end_time": "2023-07-10T07:29:22.818395100Z",
     "start_time": "2023-07-10T07:29:22.743298200Z"
    }
   }
  },
  {
   "cell_type": "code",
   "execution_count": 5,
   "outputs": [
    {
     "data": {
      "text/plain": "{'serving_default': {'inputs': ['inputs'], 'outputs': ['outputs']}}"
     },
     "execution_count": 5,
     "metadata": {},
     "output_type": "execute_result"
    }
   ],
   "source": [
    "interpreter.get_signature_list()"
   ],
   "metadata": {
    "collapsed": false,
    "ExecuteTime": {
     "end_time": "2023-07-10T07:29:22.824397500Z",
     "start_time": "2023-07-10T07:29:22.818395100Z"
    }
   }
  },
  {
   "cell_type": "code",
   "execution_count": 6,
   "outputs": [],
   "source": [
    "selected_colomns = pd.read_json(\"inference_args.json\", orient=\"index\")\n",
    "selected_colomns = selected_colomns.transpose().values\n",
    "selected_colomns = np.reshape(selected_colomns, (164,))"
   ],
   "metadata": {
    "collapsed": false,
    "ExecuteTime": {
     "end_time": "2023-07-10T07:29:22.897248200Z",
     "start_time": "2023-07-10T07:29:22.826395200Z"
    }
   }
  },
  {
   "cell_type": "code",
   "execution_count": 7,
   "outputs": [],
   "source": [
    "# load test data\n",
    "test_csv = pd.read_csv(f\"{DATA_FOLDER}/train.csv\")"
   ],
   "metadata": {
    "collapsed": false,
    "ExecuteTime": {
     "end_time": "2023-07-10T07:29:22.911753700Z",
     "start_time": "2023-07-10T07:29:22.853734600Z"
    }
   }
  },
  {
   "cell_type": "code",
   "execution_count": 8,
   "outputs": [],
   "source": [
    "x, y = test_csv.iloc[15][\"path\"], test_csv.iloc[15][\"phrase\"]"
   ],
   "metadata": {
    "collapsed": false,
    "ExecuteTime": {
     "end_time": "2023-07-10T07:29:22.916763900Z",
     "start_time": "2023-07-10T07:29:22.913760900Z"
    }
   }
  },
  {
   "cell_type": "code",
   "execution_count": 9,
   "outputs": [],
   "source": [
    "# load parquet file\n",
    "test_parquet = pd.read_parquet(f\"{DATA_FOLDER}/{x}\")"
   ],
   "metadata": {
    "collapsed": false,
    "ExecuteTime": {
     "end_time": "2023-07-10T07:29:25.537766800Z",
     "start_time": "2023-07-10T07:29:22.916763900Z"
    }
   }
  },
  {
   "cell_type": "code",
   "execution_count": 11,
   "outputs": [
    {
     "data": {
      "text/plain": "{'inputs': {'name': 'serving_default_inputs:0',\n  'index': 0,\n  'shape': array([  1, 164], dtype=int32),\n  'shape_signature': array([ -1, 164], dtype=int32),\n  'dtype': numpy.float32,\n  'quantization': (0.0, 0),\n  'quantization_parameters': {'scales': array([], dtype=float32),\n   'zero_points': array([], dtype=int32),\n   'quantized_dimension': 0},\n  'sparsity_parameters': {}}}"
     },
     "execution_count": 11,
     "metadata": {},
     "output_type": "execute_result"
    }
   ],
   "source": [
    "model.get_input_details()"
   ],
   "metadata": {
    "collapsed": false,
    "ExecuteTime": {
     "end_time": "2023-07-10T07:29:25.552695500Z",
     "start_time": "2023-07-10T07:29:25.543121100Z"
    }
   }
  },
  {
   "cell_type": "code",
   "execution_count": 12,
   "outputs": [
    {
     "data": {
      "text/plain": "[{'name': 'StatefulPartitionedCall:0',\n  'index': 350,\n  'shape': array([32, 62], dtype=int32),\n  'shape_signature': array([32, 62], dtype=int32),\n  'dtype': numpy.float32,\n  'quantization': (0.0, 0),\n  'quantization_parameters': {'scales': array([], dtype=float32),\n   'zero_points': array([], dtype=int32),\n   'quantized_dimension': 0},\n  'sparsity_parameters': {}}]"
     },
     "execution_count": 12,
     "metadata": {},
     "output_type": "execute_result"
    }
   ],
   "source": [
    "interpreter.get_output_details()"
   ],
   "metadata": {
    "collapsed": false,
    "ExecuteTime": {
     "end_time": "2023-07-10T07:29:25.557696Z",
     "start_time": "2023-07-10T07:29:25.555696600Z"
    }
   }
  },
  {
   "cell_type": "code",
   "execution_count": 13,
   "outputs": [],
   "source": [
    "# Read Character to Ordinal Encoding Mapping\n",
    "with open(f'{DATA_FOLDER}/character_to_prediction_index.json') as json_file:\n",
    "    CHAR2ORD = json.load(json_file)\n",
    "\n",
    "# Ordinal to Character Mapping\n",
    "ORD2CHAR = {j:i for i,j in CHAR2ORD.items()}\n",
    "\n",
    "# Output Predictions to string\n",
    "def outputs2phrase(outputs):\n",
    "    if outputs.ndim == 2:\n",
    "        outputs = np.argmax(outputs, axis=1)\n",
    "\n",
    "    return ''.join([ORD2CHAR.get(s, '') for s in outputs])"
   ],
   "metadata": {
    "collapsed": false,
    "ExecuteTime": {
     "end_time": "2023-07-10T07:29:25.615423500Z",
     "start_time": "2023-07-10T07:29:25.560694400Z"
    }
   }
  },
  {
   "cell_type": "code",
   "execution_count": 14,
   "outputs": [
    {
     "name": "stdout",
     "output_type": "stream",
     "text": [
      "demo_sequence_id: 1816796431\n",
      "demo_raw_data shape: (123, 164), dtype: float32\n",
      "demo_output shape: (32, 62), dtype: float32\n",
      "demo_outputs phrase decoded: 3 creek house\n",
      "phrase true: wildberries_ru\n"
     ]
    }
   ],
   "source": [
    "demo_sequence_id = test_parquet.index.unique()[0]\n",
    "print(f'demo_sequence_id: {demo_sequence_id}')\n",
    "demo_raw_data = test_parquet.loc[demo_sequence_id, selected_colomns].values\n",
    "demo_phrase_true = y\n",
    "print(f'demo_raw_data shape: {demo_raw_data.shape}, dtype: {demo_raw_data.dtype}')\n",
    "demo_output = model(inputs=demo_raw_data)['outputs']\n",
    "print(f'demo_output shape: {demo_output.shape}, dtype: {demo_output.dtype}')\n",
    "print(f'demo_outputs phrase decoded: {outputs2phrase(demo_output)}')\n",
    "print(f'phrase true: {demo_phrase_true}')"
   ],
   "metadata": {
    "collapsed": false,
    "ExecuteTime": {
     "end_time": "2023-07-10T07:29:25.837168600Z",
     "start_time": "2023-07-10T07:29:25.568696300Z"
    }
   }
  },
  {
   "cell_type": "code",
   "execution_count": 15,
   "outputs": [],
   "source": [
    "#demo_outputs phrase decoded: 303 corthes sth streeeee\n",
    "#phrase true: 3 creekhouse"
   ],
   "metadata": {
    "collapsed": false,
    "ExecuteTime": {
     "end_time": "2023-07-10T07:29:25.837168600Z",
     "start_time": "2023-07-10T07:29:25.804106Z"
    }
   }
  }
 ],
 "metadata": {
  "kernelspec": {
   "display_name": "Python 3",
   "language": "python",
   "name": "python3"
  },
  "language_info": {
   "codemirror_mode": {
    "name": "ipython",
    "version": 2
   },
   "file_extension": ".py",
   "mimetype": "text/x-python",
   "name": "python",
   "nbconvert_exporter": "python",
   "pygments_lexer": "ipython2",
   "version": "2.7.6"
  }
 },
 "nbformat": 4,
 "nbformat_minor": 0
}
