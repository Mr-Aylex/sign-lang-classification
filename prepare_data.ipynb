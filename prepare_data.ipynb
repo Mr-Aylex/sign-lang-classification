{
 "cells": [
  {
   "cell_type": "code",
   "execution_count": 1,
   "metadata": {
    "collapsed": true
   },
   "outputs": [],
   "source": [
    "import pandas as pd\n",
    "import os\n",
    "from data_preparation import load_data\n",
    "from tqdm import tqdm\n",
    "tqdm.pandas()"
   ]
  },
  {
   "cell_type": "code",
   "execution_count": 2,
   "outputs": [],
   "source": [
    "DATA_FOLDER = \"/mnt/d/sign-lang-data/\""
   ],
   "metadata": {
    "collapsed": false
   }
  },
  {
   "cell_type": "code",
   "execution_count": 5,
   "outputs": [],
   "source": [
    "train = pd.read_csv(os.path.join(DATA_FOLDER, \"train_with_nb_frame.csv\"))"
   ],
   "metadata": {
    "collapsed": false
   }
  },
  {
   "cell_type": "code",
   "execution_count": 14,
   "outputs": [],
   "source": [
    "lst_of_test_parquet = [\n",
    "    \"train_landmark_files/22343/1110225521.parquet\",#330\n",
    "    \"train_landmark_files/4718/2748291567.parquet\",#5\n",
    "    \"train_landmark_files/49445/2648133604.parquet\",#60\n",
    "    \"train_landmark_files/62590/2817812959.parquet\" #150\n",
    "]"
   ],
   "metadata": {
    "collapsed": false
   }
  },
  {
   "cell_type": "code",
   "execution_count": 15,
   "outputs": [],
   "source": [
    "#train[train.nb_frame >= 150]"
   ],
   "metadata": {
    "collapsed": false
   }
  },
  {
   "cell_type": "code",
   "execution_count": null,
   "outputs": [],
   "source": [],
   "metadata": {
    "collapsed": false
   }
  },
  {
   "cell_type": "code",
   "execution_count": 45,
   "outputs": [
    {
     "name": "stdout",
     "output_type": "stream",
     "text": [
      "330 = 10 x 33 + 0\n",
      "(154440, 7)\n",
      "(154407, 7)\n",
      "(154374, 7)\n",
      "(154341, 7)\n",
      "(154308, 7)\n",
      "(154275, 7)\n",
      "(154242, 7)\n",
      "(154209, 7)\n",
      "(154176, 7)\n",
      "(154143, 7)\n",
      "6 = 10 x 0 + 6\n",
      "(2808, 7)\n",
      "45 = 10 x 4 + 5\n",
      "(21060, 7)\n",
      "(21056, 7)\n",
      "(21052, 7)\n",
      "(21048, 7)\n",
      "(21044, 7)\n",
      "(21040, 7)\n",
      "(21036, 7)\n",
      "(21032, 7)\n",
      "(21028, 7)\n",
      "(21024, 7)\n",
      "(21015, 7)\n",
      "91 = 10 x 9 + 1\n",
      "(42588, 7)\n",
      "(42579, 7)\n",
      "(42570, 7)\n",
      "(42561, 7)\n",
      "(42552, 7)\n",
      "(42543, 7)\n",
      "(42534, 7)\n",
      "(42525, 7)\n",
      "(42516, 7)\n",
      "(42507, 7)\n",
      "(42497, 7)\n"
     ]
    }
   ],
   "source": [
    "for parquet in lst_of_test_parquet:\n",
    "    parquet_df = pd.read_parquet(os.path.join(DATA_FOLDER, parquet), engine=\"pyarrow\")\n",
    "    parquet_df2 = parquet_df[parquet_df.type == 'face']\n",
    "    # do mean of 10 group in parquet_df2\n",
    "    nbframe = parquet_df2.groupby(\"frame\").count().shape[0]\n",
    "\n",
    "    group_size = int(((nbframe - nbframe % 10) / 10))\n",
    "    rest = nbframe % 10\n",
    "    print(f\"{nbframe} = 10 x {group_size} + {rest}\")\n",
    "\n",
    "    if rest == 0:\n",
    "        for i in range(10):\n",
    "            print(parquet_df2.iloc[i*group_size:,:].shape)\n",
    "    else:\n",
    "        if group_size == 0:\n",
    "            print(parquet_df2.shape)\n",
    "        else:\n",
    "            for i in range(10):\n",
    "                print(parquet_df2.iloc[i*group_size:,:].shape)\n",
    "\n",
    "            print(parquet_df2.iloc[10*group_size+rest:,:].shape)\n"
   ],
   "metadata": {
    "collapsed": false
   }
  },
  {
   "cell_type": "code",
   "execution_count": null,
   "outputs": [],
   "source": [],
   "metadata": {
    "collapsed": false
   }
  }
 ],
 "metadata": {
  "kernelspec": {
   "display_name": "Python 3",
   "language": "python",
   "name": "python3"
  },
  "language_info": {
   "codemirror_mode": {
    "name": "ipython",
    "version": 2
   },
   "file_extension": ".py",
   "mimetype": "text/x-python",
   "name": "python",
   "nbconvert_exporter": "python",
   "pygments_lexer": "ipython2",
   "version": "2.7.6"
  }
 },
 "nbformat": 4,
 "nbformat_minor": 0
}
