{
 "cells": [
  {
   "cell_type": "code",
   "execution_count": 8,
   "metadata": {
    "collapsed": true
   },
   "outputs": [
    {
     "name": "stderr",
     "output_type": "stream",
     "text": [
      "2023-04-09 15:57:02.043345: I tensorflow/core/platform/cpu_feature_guard.cc:182] This TensorFlow binary is optimized to use available CPU instructions in performance-critical operations.\n",
      "To enable the following instructions: AVX2 FMA, in other operations, rebuild TensorFlow with the appropriate compiler flags.\n",
      "2023-04-09 15:57:03.053638: W tensorflow/compiler/tf2tensorrt/utils/py_utils.cc:38] TF-TRT Warning: Could not find TensorRT\n"
     ]
    }
   ],
   "source": [
    "import pandas as pd\n",
    "import os\n",
    "from data_preparation import load_data\n",
    "from tqdm import tqdm\n",
    "import numpy as np\n",
    "tqdm.pandas()\n",
    "import tensorflow as tf"
   ]
  },
  {
   "cell_type": "code",
   "execution_count": 2,
   "outputs": [],
   "source": [
    "DATA_FOLDER = \"/mnt/d/sign-lang-data/\""
   ],
   "metadata": {
    "collapsed": false
   }
  },
  {
   "cell_type": "code",
   "execution_count": 3,
   "outputs": [],
   "source": [
    "train = pd.read_csv(os.path.join(DATA_FOLDER, \"train_with_nb_frame.csv\"))"
   ],
   "metadata": {
    "collapsed": false
   }
  },
  {
   "cell_type": "code",
   "execution_count": 4,
   "outputs": [],
   "source": [
    "lst_of_test_parquet = [\n",
    "    \"train_landmark_files/22343/1110225521.parquet\",#330\n",
    "    \"train_landmark_files/4718/2748291567.parquet\",#5\n",
    "    \"train_landmark_files/49445/2648133604.parquet\",#60\n",
    "    \"train_landmark_files/62590/2817812959.parquet\" #150\n",
    "]"
   ],
   "metadata": {
    "collapsed": false
   }
  },
  {
   "cell_type": "code",
   "execution_count": 5,
   "outputs": [],
   "source": [
    "#train[train.nb_frame >= 150]"
   ],
   "metadata": {
    "collapsed": false
   }
  },
  {
   "cell_type": "code",
   "execution_count": 6,
   "outputs": [
    {
     "data": {
      "text/plain": "       frame             row_id        type  landmark_index         x   \n0         60          60-face-0        face               0  0.490645  \\\n1         60          60-face-1        face               1  0.484890   \n2         60          60-face-2        face               2  0.486941   \n3         60          60-face-3        face               3  0.474281   \n4         60          60-face-4        face               4  0.484129   \n...      ...                ...         ...             ...       ...   \n49408    150  150-right_hand-16  right_hand              16  0.376999   \n49409    150  150-right_hand-17  right_hand              17  0.269614   \n49410    150  150-right_hand-18  right_hand              18  0.301550   \n49411    150  150-right_hand-19  right_hand              19  0.328819   \n49412    150  150-right_hand-20  right_hand              20  0.352783   \n\n              y         z  \n0      0.530036 -0.039722  \n1      0.500506 -0.059791  \n2      0.509968 -0.034611  \n3      0.477195 -0.038282  \n4      0.492718 -0.062013  \n...         ...       ...  \n49408  0.859378 -0.095406  \n49409  0.899242 -0.061837  \n49410  0.898282 -0.080791  \n49411  0.894403 -0.084535  \n49412  0.888817 -0.086017  \n\n[49413 rows x 7 columns]",
      "text/html": "<div>\n<style scoped>\n    .dataframe tbody tr th:only-of-type {\n        vertical-align: middle;\n    }\n\n    .dataframe tbody tr th {\n        vertical-align: top;\n    }\n\n    .dataframe thead th {\n        text-align: right;\n    }\n</style>\n<table border=\"1\" class=\"dataframe\">\n  <thead>\n    <tr style=\"text-align: right;\">\n      <th></th>\n      <th>frame</th>\n      <th>row_id</th>\n      <th>type</th>\n      <th>landmark_index</th>\n      <th>x</th>\n      <th>y</th>\n      <th>z</th>\n    </tr>\n  </thead>\n  <tbody>\n    <tr>\n      <th>0</th>\n      <td>60</td>\n      <td>60-face-0</td>\n      <td>face</td>\n      <td>0</td>\n      <td>0.490645</td>\n      <td>0.530036</td>\n      <td>-0.039722</td>\n    </tr>\n    <tr>\n      <th>1</th>\n      <td>60</td>\n      <td>60-face-1</td>\n      <td>face</td>\n      <td>1</td>\n      <td>0.484890</td>\n      <td>0.500506</td>\n      <td>-0.059791</td>\n    </tr>\n    <tr>\n      <th>2</th>\n      <td>60</td>\n      <td>60-face-2</td>\n      <td>face</td>\n      <td>2</td>\n      <td>0.486941</td>\n      <td>0.509968</td>\n      <td>-0.034611</td>\n    </tr>\n    <tr>\n      <th>3</th>\n      <td>60</td>\n      <td>60-face-3</td>\n      <td>face</td>\n      <td>3</td>\n      <td>0.474281</td>\n      <td>0.477195</td>\n      <td>-0.038282</td>\n    </tr>\n    <tr>\n      <th>4</th>\n      <td>60</td>\n      <td>60-face-4</td>\n      <td>face</td>\n      <td>4</td>\n      <td>0.484129</td>\n      <td>0.492718</td>\n      <td>-0.062013</td>\n    </tr>\n    <tr>\n      <th>...</th>\n      <td>...</td>\n      <td>...</td>\n      <td>...</td>\n      <td>...</td>\n      <td>...</td>\n      <td>...</td>\n      <td>...</td>\n    </tr>\n    <tr>\n      <th>49408</th>\n      <td>150</td>\n      <td>150-right_hand-16</td>\n      <td>right_hand</td>\n      <td>16</td>\n      <td>0.376999</td>\n      <td>0.859378</td>\n      <td>-0.095406</td>\n    </tr>\n    <tr>\n      <th>49409</th>\n      <td>150</td>\n      <td>150-right_hand-17</td>\n      <td>right_hand</td>\n      <td>17</td>\n      <td>0.269614</td>\n      <td>0.899242</td>\n      <td>-0.061837</td>\n    </tr>\n    <tr>\n      <th>49410</th>\n      <td>150</td>\n      <td>150-right_hand-18</td>\n      <td>right_hand</td>\n      <td>18</td>\n      <td>0.301550</td>\n      <td>0.898282</td>\n      <td>-0.080791</td>\n    </tr>\n    <tr>\n      <th>49411</th>\n      <td>150</td>\n      <td>150-right_hand-19</td>\n      <td>right_hand</td>\n      <td>19</td>\n      <td>0.328819</td>\n      <td>0.894403</td>\n      <td>-0.084535</td>\n    </tr>\n    <tr>\n      <th>49412</th>\n      <td>150</td>\n      <td>150-right_hand-20</td>\n      <td>right_hand</td>\n      <td>20</td>\n      <td>0.352783</td>\n      <td>0.888817</td>\n      <td>-0.086017</td>\n    </tr>\n  </tbody>\n</table>\n<p>49413 rows × 7 columns</p>\n</div>"
     },
     "execution_count": 6,
     "metadata": {},
     "output_type": "execute_result"
    }
   ],
   "source": [
    "parquet_df = pd.read_parquet(os.path.join(DATA_FOLDER, \"train_landmark_files/62590/2817812959.parquet\"), engine=\"pyarrow\")\n",
    "parquet_df"
   ],
   "metadata": {
    "collapsed": false
   }
  },
  {
   "cell_type": "code",
   "execution_count": 42,
   "outputs": [
    {
     "name": "stdout",
     "output_type": "stream",
     "text": [
      "nbframe = 330\n",
      "330 = 15 x 22 + 0\n",
      "nbframe = 6\n",
      "6 = 15 x 0 + 6\n",
      "nbframe = 45\n",
      "45 = 15 x 3 + 0\n",
      "nbframe = 91\n",
      "91 = 15 x 6 + 1\n"
     ]
    }
   ],
   "source": [
    "frame_group_size = 15\n",
    "\n",
    "for parquet in lst_of_test_parquet:\n",
    "    parquet_df = pd.read_parquet(os.path.join(DATA_FOLDER, parquet), engine=\"pyarrow\")\n",
    "    parquet_df2 = parquet_df#[parquet_df.type == 'face']\n",
    "    # do mean of 10 group in parquet_df2\n",
    "    nbframe = len(parquet_df2[\"frame\"].unique().tolist())\n",
    "    fisrt_frame = parquet_df2[\"frame\"].unique().min()\n",
    "    last_frame = parquet_df2[\"frame\"].unique().max()\n",
    "    print(f\"nbframe = {nbframe}\")\n",
    "    group_size = int(((nbframe - nbframe % frame_group_size) / frame_group_size))\n",
    "    rest = nbframe % frame_group_size\n",
    "    print(f\"{nbframe} = {frame_group_size} x {group_size} + {rest}\")\n",
    "\n",
    "    if rest == 0:\n",
    "        for i in range(frame_group_size):\n",
    "            group = parquet_df2[(parquet_df2[\"frame\"] >= i*group_size+fisrt_frame) & (parquet_df2[\"frame\"] <= (i+1)*group_size+fisrt_frame)]\n",
    "            # group by type and landmark_index and do mean\n",
    "            group = group[[\"type\", \"landmark_index\", \"x\", \"y\", \"z\"]]\n",
    "            group = group.groupby([\"type\", \"landmark_index\"]).mean()\n",
    "            #print(group.shape)\n",
    "\n",
    "            p = pd.DataFrame(group[[\"x\", \"y\", \"z\"]].values).fillna(0)\n",
    "            d = tf.constant(p.values, dtype=tf.float32)\n",
    "            d  = tf.concat(\n",
    "                    [d, tf.zeros((7,3), dtype=tf.float32)], axis=0\n",
    "                )\n",
    "            d = tf.reshape(d, (22,25, 3)  )\n",
    "\n",
    "    else:\n",
    "        if group_size == 0:\n",
    "            pass\n",
    "        else:\n",
    "            for i in range(frame_group_size):\n",
    "\n",
    "                group = parquet_df2[(parquet_df2[\"frame\"] >= i*group_size+fisrt_frame) & (parquet_df2[\"frame\"] <= (i+1)*group_size+fisrt_frame)]\n",
    "                group = group[[\"type\", \"landmark_index\", \"x\", \"y\", \"z\"]]\n",
    "                group = group.groupby([\"type\", \"landmark_index\"]).mean()\n",
    "                p = pd.DataFrame(group[[\"x\", \"y\", \"z\"]].values).fillna(0)\n",
    "                d = tf.constant(p.values, dtype=tf.float32)\n",
    "                d  = tf.concat(\n",
    "                    [d, tf.zeros((7,3), dtype=tf.float32)], axis=0\n",
    "                )\n",
    "                d = tf.reshape(d, (22,25, 3))\n",
    "\n",
    "            group = parquet_df2[(parquet_df2[\"frame\"] >= 10 * group_size + fisrt_frame) & (parquet_df2[\"frame\"] <= (10 + 1) * group_size + fisrt_frame + rest)]\n",
    "            group = group[[\"type\", \"landmark_index\", \"x\", \"y\", \"z\"]]\n",
    "            group = group.groupby([\"type\", \"landmark_index\"]).mean()\n",
    "            p = pd.DataFrame(group[[\"x\", \"y\", \"z\"]].values).fillna(0)\n",
    "            d = tf.constant(p.values, dtype=tf.float32)\n",
    "            d  = tf.concat(\n",
    "                    [d, tf.zeros((7,3), dtype=tf.float32)], axis=0\n",
    "                )\n",
    "            d = tf.reshape(d, (22,25, 3)  )\n"
   ],
   "metadata": {
    "collapsed": false
   }
  },
  {
   "cell_type": "code",
   "execution_count": null,
   "outputs": [],
   "source": [],
   "metadata": {
    "collapsed": false
   }
  }
 ],
 "metadata": {
  "kernelspec": {
   "display_name": "Python 3",
   "language": "python",
   "name": "python3"
  },
  "language_info": {
   "codemirror_mode": {
    "name": "ipython",
    "version": 2
   },
   "file_extension": ".py",
   "mimetype": "text/x-python",
   "name": "python",
   "nbconvert_exporter": "python",
   "pygments_lexer": "ipython2",
   "version": "2.7.6"
  }
 },
 "nbformat": 4,
 "nbformat_minor": 0
}
