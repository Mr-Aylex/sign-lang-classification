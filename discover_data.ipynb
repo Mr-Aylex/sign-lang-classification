{
 "cells": [
  {
   "cell_type": "code",
   "execution_count": 3,
   "metadata": {
    "collapsed": true
   },
   "outputs": [],
   "source": [
    "import pandas as pd\n",
    "import os\n",
    "from data_preparation import load_data"
   ]
  },
  {
   "cell_type": "code",
   "execution_count": null,
   "outputs": [],
   "source": [
    "DATA_FOLDER = \"/mnt/d/sign-lang-data/\"\n",
    "ez = load_data.load_data(DATA_FOLDER, \"train.csv\")"
   ],
   "metadata": {
    "collapsed": false,
    "pycharm": {
     "is_executing": true
    }
   }
  },
  {
   "cell_type": "code",
   "execution_count": null,
   "outputs": [],
   "source": [],
   "metadata": {
    "collapsed": false
   }
  },
  {
   "cell_type": "code",
   "execution_count": 3,
   "outputs": [],
   "source": [
    "res = pd.read_parquet(os.path.join(DATA_FOLDER,\"train_landmark_files/4718/132875.parquet\"), engine='pyarrow')"
   ],
   "metadata": {
    "collapsed": false
   }
  },
  {
   "cell_type": "code",
   "execution_count": 4,
   "outputs": [
    {
     "data": {
      "text/plain": "      frame           row_id        type  landmark_index         x         y  \\\n0         2         2-face-0        face               0  0.568849  0.458078   \n1         2         2-face-1        face               1  0.553544  0.420910   \n2         2         2-face-2        face               2  0.553654  0.433180   \n3         2         2-face-3        face               3  0.541631  0.394081   \n4         2         2-face-4        face               4  0.553177  0.411433   \n...     ...              ...         ...             ...       ...       ...   \n3253      7  7-right_hand-16  right_hand              16  0.483145  0.618645   \n3254      7  7-right_hand-17  right_hand              17  0.286214  0.654441   \n3255      7  7-right_hand-18  right_hand              18  0.342199  0.651741   \n3256      7  7-right_hand-19  right_hand              19  0.382268  0.649928   \n3257      7  7-right_hand-20  right_hand              20  0.419936  0.650066   \n\n             z  \n0    -0.045442  \n1    -0.065209  \n2    -0.039494  \n3    -0.042482  \n4    -0.067053  \n...        ...  \n3253 -0.118344  \n3254 -0.090772  \n3255 -0.112155  \n3256 -0.119010  \n3257 -0.123800  \n\n[3258 rows x 7 columns]",
      "text/html": "<div>\n<style scoped>\n    .dataframe tbody tr th:only-of-type {\n        vertical-align: middle;\n    }\n\n    .dataframe tbody tr th {\n        vertical-align: top;\n    }\n\n    .dataframe thead th {\n        text-align: right;\n    }\n</style>\n<table border=\"1\" class=\"dataframe\">\n  <thead>\n    <tr style=\"text-align: right;\">\n      <th></th>\n      <th>frame</th>\n      <th>row_id</th>\n      <th>type</th>\n      <th>landmark_index</th>\n      <th>x</th>\n      <th>y</th>\n      <th>z</th>\n    </tr>\n  </thead>\n  <tbody>\n    <tr>\n      <th>0</th>\n      <td>2</td>\n      <td>2-face-0</td>\n      <td>face</td>\n      <td>0</td>\n      <td>0.568849</td>\n      <td>0.458078</td>\n      <td>-0.045442</td>\n    </tr>\n    <tr>\n      <th>1</th>\n      <td>2</td>\n      <td>2-face-1</td>\n      <td>face</td>\n      <td>1</td>\n      <td>0.553544</td>\n      <td>0.420910</td>\n      <td>-0.065209</td>\n    </tr>\n    <tr>\n      <th>2</th>\n      <td>2</td>\n      <td>2-face-2</td>\n      <td>face</td>\n      <td>2</td>\n      <td>0.553654</td>\n      <td>0.433180</td>\n      <td>-0.039494</td>\n    </tr>\n    <tr>\n      <th>3</th>\n      <td>2</td>\n      <td>2-face-3</td>\n      <td>face</td>\n      <td>3</td>\n      <td>0.541631</td>\n      <td>0.394081</td>\n      <td>-0.042482</td>\n    </tr>\n    <tr>\n      <th>4</th>\n      <td>2</td>\n      <td>2-face-4</td>\n      <td>face</td>\n      <td>4</td>\n      <td>0.553177</td>\n      <td>0.411433</td>\n      <td>-0.067053</td>\n    </tr>\n    <tr>\n      <th>...</th>\n      <td>...</td>\n      <td>...</td>\n      <td>...</td>\n      <td>...</td>\n      <td>...</td>\n      <td>...</td>\n      <td>...</td>\n    </tr>\n    <tr>\n      <th>3253</th>\n      <td>7</td>\n      <td>7-right_hand-16</td>\n      <td>right_hand</td>\n      <td>16</td>\n      <td>0.483145</td>\n      <td>0.618645</td>\n      <td>-0.118344</td>\n    </tr>\n    <tr>\n      <th>3254</th>\n      <td>7</td>\n      <td>7-right_hand-17</td>\n      <td>right_hand</td>\n      <td>17</td>\n      <td>0.286214</td>\n      <td>0.654441</td>\n      <td>-0.090772</td>\n    </tr>\n    <tr>\n      <th>3255</th>\n      <td>7</td>\n      <td>7-right_hand-18</td>\n      <td>right_hand</td>\n      <td>18</td>\n      <td>0.342199</td>\n      <td>0.651741</td>\n      <td>-0.112155</td>\n    </tr>\n    <tr>\n      <th>3256</th>\n      <td>7</td>\n      <td>7-right_hand-19</td>\n      <td>right_hand</td>\n      <td>19</td>\n      <td>0.382268</td>\n      <td>0.649928</td>\n      <td>-0.119010</td>\n    </tr>\n    <tr>\n      <th>3257</th>\n      <td>7</td>\n      <td>7-right_hand-20</td>\n      <td>right_hand</td>\n      <td>20</td>\n      <td>0.419936</td>\n      <td>0.650066</td>\n      <td>-0.123800</td>\n    </tr>\n  </tbody>\n</table>\n<p>3258 rows × 7 columns</p>\n</div>"
     },
     "execution_count": 4,
     "metadata": {},
     "output_type": "execute_result"
    }
   ],
   "source": [
    "res"
   ],
   "metadata": {
    "collapsed": false
   }
  },
  {
   "cell_type": "code",
   "execution_count": 5,
   "outputs": [
    {
     "data": {
      "text/plain": "                                                path  participant_id  \\\n0      train_landmark_files/26734/1000035562.parquet           26734   \n1      train_landmark_files/28656/1000106739.parquet           28656   \n2       train_landmark_files/16069/100015657.parquet           16069   \n3      train_landmark_files/25571/1000210073.parquet           25571   \n4      train_landmark_files/62590/1000240708.parquet           62590   \n...                                              ...             ...   \n94472   train_landmark_files/53618/999786174.parquet           53618   \n94473   train_landmark_files/26734/999799849.parquet           26734   \n94474   train_landmark_files/25571/999833418.parquet           25571   \n94475   train_landmark_files/29302/999895257.parquet           29302   \n94476   train_landmark_files/36257/999962374.parquet           36257   \n\n       sequence_id    sign  \n0       1000035562    blow  \n1       1000106739    wait  \n2        100015657   cloud  \n3       1000210073    bird  \n4       1000240708    owie  \n...            ...     ...  \n94472    999786174   white  \n94473    999799849    have  \n94474    999833418  flower  \n94475    999895257    room  \n94476    999962374   happy  \n\n[94477 rows x 4 columns]",
      "text/html": "<div>\n<style scoped>\n    .dataframe tbody tr th:only-of-type {\n        vertical-align: middle;\n    }\n\n    .dataframe tbody tr th {\n        vertical-align: top;\n    }\n\n    .dataframe thead th {\n        text-align: right;\n    }\n</style>\n<table border=\"1\" class=\"dataframe\">\n  <thead>\n    <tr style=\"text-align: right;\">\n      <th></th>\n      <th>path</th>\n      <th>participant_id</th>\n      <th>sequence_id</th>\n      <th>sign</th>\n    </tr>\n  </thead>\n  <tbody>\n    <tr>\n      <th>0</th>\n      <td>train_landmark_files/26734/1000035562.parquet</td>\n      <td>26734</td>\n      <td>1000035562</td>\n      <td>blow</td>\n    </tr>\n    <tr>\n      <th>1</th>\n      <td>train_landmark_files/28656/1000106739.parquet</td>\n      <td>28656</td>\n      <td>1000106739</td>\n      <td>wait</td>\n    </tr>\n    <tr>\n      <th>2</th>\n      <td>train_landmark_files/16069/100015657.parquet</td>\n      <td>16069</td>\n      <td>100015657</td>\n      <td>cloud</td>\n    </tr>\n    <tr>\n      <th>3</th>\n      <td>train_landmark_files/25571/1000210073.parquet</td>\n      <td>25571</td>\n      <td>1000210073</td>\n      <td>bird</td>\n    </tr>\n    <tr>\n      <th>4</th>\n      <td>train_landmark_files/62590/1000240708.parquet</td>\n      <td>62590</td>\n      <td>1000240708</td>\n      <td>owie</td>\n    </tr>\n    <tr>\n      <th>...</th>\n      <td>...</td>\n      <td>...</td>\n      <td>...</td>\n      <td>...</td>\n    </tr>\n    <tr>\n      <th>94472</th>\n      <td>train_landmark_files/53618/999786174.parquet</td>\n      <td>53618</td>\n      <td>999786174</td>\n      <td>white</td>\n    </tr>\n    <tr>\n      <th>94473</th>\n      <td>train_landmark_files/26734/999799849.parquet</td>\n      <td>26734</td>\n      <td>999799849</td>\n      <td>have</td>\n    </tr>\n    <tr>\n      <th>94474</th>\n      <td>train_landmark_files/25571/999833418.parquet</td>\n      <td>25571</td>\n      <td>999833418</td>\n      <td>flower</td>\n    </tr>\n    <tr>\n      <th>94475</th>\n      <td>train_landmark_files/29302/999895257.parquet</td>\n      <td>29302</td>\n      <td>999895257</td>\n      <td>room</td>\n    </tr>\n    <tr>\n      <th>94476</th>\n      <td>train_landmark_files/36257/999962374.parquet</td>\n      <td>36257</td>\n      <td>999962374</td>\n      <td>happy</td>\n    </tr>\n  </tbody>\n</table>\n<p>94477 rows × 4 columns</p>\n</div>"
     },
     "execution_count": 5,
     "metadata": {},
     "output_type": "execute_result"
    }
   ],
   "source": [
    "pd.read_csv(os.path.join(DATA_FOLDER,\"train.csv\"))"
   ],
   "metadata": {
    "collapsed": false
   }
  },
  {
   "cell_type": "code",
   "execution_count": null,
   "outputs": [],
   "source": [],
   "metadata": {
    "collapsed": false
   }
  }
 ],
 "metadata": {
  "kernelspec": {
   "display_name": "Python 3",
   "language": "python",
   "name": "python3"
  },
  "language_info": {
   "codemirror_mode": {
    "name": "ipython",
    "version": 2
   },
   "file_extension": ".py",
   "mimetype": "text/x-python",
   "name": "python",
   "nbconvert_exporter": "python",
   "pygments_lexer": "ipython2",
   "version": "2.7.6"
  }
 },
 "nbformat": 4,
 "nbformat_minor": 0
}
